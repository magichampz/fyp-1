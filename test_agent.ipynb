{
 "cells": [
  {
   "cell_type": "code",
   "execution_count": 76,
   "metadata": {},
   "outputs": [],
   "source": [
    "from langchain_core.tools import tool\n",
    "import getpass\n",
    "import os\n",
    "from langchain_openai import ChatOpenAI\n",
    "from langchain_core.messages import HumanMessage\n",
    "import subprocess\n",
    "import re\n",
    "\n",
    "\n",
    "\n",
    "os.environ['OPENAI_API_KEY'] = 'insert-key-here'"
   ]
  },
  {
   "cell_type": "markdown",
   "metadata": {},
   "source": [
    "## actual port scan tools"
   ]
  },
  {
   "cell_type": "markdown",
   "metadata": {},
   "source": [
    "custom tools / functions written, for the agent to call"
   ]
  },
  {
   "cell_type": "code",
   "execution_count": 137,
   "metadata": {},
   "outputs": [],
   "source": [
    "# TOOLS:\n",
    "\n",
    "@tool\n",
    "def check_device(a: str) -> bool:\n",
    "    \"\"\"\n",
    "    Checks if the device is connected to the network.\n",
    "    Args:\n",
    "        a: hostname of the device (e.g., 'patient-monitor.local').\n",
    "    Returns:\n",
    "        bool: True if the device is connected, False otherwise.\n",
    "    \"\"\"\n",
    "    \n",
    "    try:\n",
    "        # Run the nmap command for a ping scan\n",
    "        result = subprocess.run(\n",
    "            [\"nmap\", \"-sn\", a],\n",
    "            stdout=subprocess.PIPE,\n",
    "            stderr=subprocess.PIPE,\n",
    "            text=True\n",
    "        )\n",
    "\n",
    "        # Capture the output\n",
    "        nmap_output = result.stdout\n",
    "        if \"Host is up\" in nmap_output:\n",
    "            print(nmap_output)  # Print the detailed output in the desired format\n",
    "            return True\n",
    "        else:\n",
    "            print(f\"Nmap scan report for {a}\\nDevice is not reachable.\")\n",
    "            return False\n",
    "    except Exception as e:\n",
    "        print(f\"Error occurred while running nmap: {e}\")\n",
    "        return False\n",
    "    \n",
    "\n",
    "@tool\n",
    "def port_scan(a: str) -> str:\n",
    "    \"\"\"\n",
    "    Performs a port scan on the given device and returns details about open ports.\n",
    "    Args:\n",
    "        a: The hostname or IP address of the device to scan.\n",
    "    Returns:\n",
    "        A string containing details about the open ports, their state, and the associated service.\n",
    "    \"\"\"\n",
    "    \n",
    "    # code from chatgpt to run the command line nmap process for port scanning\n",
    "    try:\n",
    "        # Run the nmap command to scan all ports and detect services\n",
    "        result = subprocess.run(\n",
    "            [\"nmap\", a],\n",
    "            stdout=subprocess.PIPE,\n",
    "            stderr=subprocess.PIPE,\n",
    "            text=True\n",
    "        )\n",
    "\n",
    "        # Capture the output\n",
    "        nmap_output = result.stdout\n",
    "\n",
    "        # Extract details of open ports using regex\n",
    "        open_ports_info = []\n",
    "        for line in nmap_output.splitlines():\n",
    "            # Regex to match lines with port, state, and service info\n",
    "            match = re.match(r\"(\\d+/tcp)\\s+(open)\\s+([\\w\\-]+)\", line)\n",
    "            if match:\n",
    "                port, state, service = match.groups()\n",
    "                open_ports_info.append(f\"Port: {port}, State: {state}, Service: {service}\")\n",
    "\n",
    "        # If no open ports are found\n",
    "        if not open_ports_info:\n",
    "            return f\"No open ports found on device {a}.\"\n",
    "\n",
    "        # Format the output\n",
    "        result_str = f\"Nmap scan results for {a}:\\n\" + \"\\n\".join(open_ports_info)\n",
    "        print(result_str)  # Print the results for debugging or logging purposes\n",
    "        return result_str\n",
    "\n",
    "    except Exception as e:\n",
    "        error_msg = f\"Error occurred while running port scan: {e}\"\n",
    "        print(error_msg)\n",
    "        return error_msg\n",
    "    \n",
    "\n",
    "\n",
    "tools = [check_device, port_scan]\n",
    "\n"
   ]
  },
  {
   "cell_type": "code",
   "execution_count": 117,
   "metadata": {},
   "outputs": [],
   "source": [
    "# binding tools to the llm to make the agent\n",
    "llm = ChatOpenAI(model=\"gpt-4o-mini\")\n",
    "llm_with_tools = llm.bind_tools(tools)"
   ]
  },
  {
   "cell_type": "markdown",
   "metadata": {},
   "source": [
    "### tool invocation 1: checking the device connection\n"
   ]
  },
  {
   "cell_type": "code",
   "execution_count": 124,
   "metadata": {},
   "outputs": [
    {
     "name": "stdout",
     "output_type": "stream",
     "text": [
      "[{'name': 'check_device', 'args': {'a': '192.168.5.115'}, 'id': 'call_aFyzSrM00I4OMHydhYk3yMx4', 'type': 'tool_call'}]\n"
     ]
    }
   ],
   "source": [
    "# query = \"Check if the patient-monitor.local device is connected\"\n",
    "query = \"Check if the device with IP 192.168.5.115 is connected\"\n",
    "messages = [HumanMessage(query)]\n",
    "output = llm_with_tools.invoke(query) # this output tells us what tool is to be called, but doesnt call it yet\n",
    "messages.append(output) \n",
    "print(output.tool_calls)   \n",
    "\n"
   ]
  },
  {
   "cell_type": "code",
   "execution_count": 125,
   "metadata": {},
   "outputs": [
    {
     "name": "stdout",
     "output_type": "stream",
     "text": [
      "Starting Nmap 7.95 ( https://nmap.org ) at 2024-12-29 18:09 GMT\n",
      "Nmap scan report for 192.168.5.115\n",
      "Host is up (0.062s latency).\n",
      "Nmap done: 1 IP address (1 host up) scanned in 0.15 seconds\n",
      "\n",
      "content='true' name='check_device' tool_call_id='call_aFyzSrM00I4OMHydhYk3yMx4'\n",
      "\n",
      "LLM Final Response:\n"
     ]
    },
    {
     "data": {
      "text/plain": [
       "AIMessage(content='The device with IP 192.168.5.115 is connected.', additional_kwargs={'refusal': None}, response_metadata={'token_usage': {'completion_tokens': 17, 'prompt_tokens': 187, 'total_tokens': 204, 'completion_tokens_details': {'accepted_prediction_tokens': 0, 'audio_tokens': 0, 'reasoning_tokens': 0, 'rejected_prediction_tokens': 0}, 'prompt_tokens_details': {'audio_tokens': 0, 'cached_tokens': 0}}, 'model_name': 'gpt-4o-mini-2024-07-18', 'system_fingerprint': 'fp_0aa8d3e20b', 'finish_reason': 'stop', 'logprobs': None}, id='run-9a31f0af-8949-45ce-a5d1-2bf1a8e1133b-0', usage_metadata={'input_tokens': 187, 'output_tokens': 17, 'total_tokens': 204, 'input_token_details': {'audio': 0, 'cache_read': 0}, 'output_token_details': {'audio': 0, 'reasoning': 0}})"
      ]
     },
     "execution_count": 125,
     "metadata": {},
     "output_type": "execute_result"
    }
   ],
   "source": [
    "# Run the tool that was identified by the llm (tool calling)\n",
    "for tool_call in output.tool_calls:\n",
    "    selected_tool = {\"check_device\": check_device, \"port_scan\": port_scan}[tool_call[\"name\"].lower()]  # Add `port_scan` here later\n",
    "    tool_msg = selected_tool.invoke(tool_call)\n",
    "    print(tool_msg)\n",
    "    print()\n",
    "    messages.append(tool_msg)\n",
    "\n",
    "\n",
    "print(\"LLM Final Response:\")\n",
    "# use llm to integrate tool outputs into its response\n",
    "llm_with_tools.invoke(messages)\n"
   ]
  },
  {
   "cell_type": "markdown",
   "metadata": {},
   "source": [
    "### tool invocation 2: running a port scan"
   ]
  },
  {
   "cell_type": "code",
   "execution_count": 122,
   "metadata": {},
   "outputs": [
    {
     "name": "stdout",
     "output_type": "stream",
     "text": [
      "[{'name': 'port_scan', 'args': {'a': '192.168.5.115'}, 'id': 'call_4zopGqQcYn8d1ZbYaLfpAMpF', 'type': 'tool_call'}]\n"
     ]
    }
   ],
   "source": [
    "# query = \"run port scan on patient-monitor.local\"\n",
    "query = \"run port scan on IP 192.168.5.115\"\n",
    "messages = [HumanMessage(query)]\n",
    "output = llm_with_tools.invoke(query) # this output tells us what tool is to be called, but doesnt call it yet\n",
    "print(output.tool_calls)   \n",
    "messages.append(output)\n",
    "\n"
   ]
  },
  {
   "cell_type": "code",
   "execution_count": null,
   "metadata": {},
   "outputs": [
    {
     "name": "stdout",
     "output_type": "stream",
     "text": [
      "Nmap scan results for 192.168.5.115:\n",
      "Port: 6668/tcp, State: open, Service: irc\n",
      "content='Nmap scan results for 192.168.5.115:\\nPort: 6668/tcp, State: open, Service: irc' name='port_scan' tool_call_id='call_AH6ziBE7wo81A9V0djIEl4jX'\n",
      "\n"
     ]
    }
   ],
   "source": [
    "# Run the tool\n",
    "for tool_call in output.tool_calls:\n",
    "    selected_tool = {\"check_device\": check_device, \"port_scan\": port_scan}[tool_call[\"name\"].lower()]\n",
    "    tool_msg = selected_tool.invoke(tool_call)\n",
    "    print(tool_msg)\n",
    "    print()\n",
    "    messages.append(tool_msg)\n"
   ]
  },
  {
   "cell_type": "code",
   "execution_count": 114,
   "metadata": {},
   "outputs": [],
   "source": [
    "# use llm to integrate tool outputs into its response\n",
    "x = llm_with_tools.invoke(messages)\n"
   ]
  },
  {
   "cell_type": "code",
   "execution_count": 126,
   "metadata": {},
   "outputs": [
    {
     "name": "stdout",
     "output_type": "stream",
     "text": [
      "LLM Final Response:\n",
      "The port scan results for IP 192.168.5.115 are as follows:\n",
      "\n",
      "- **Port:** 6668/tcp\n",
      "- **State:** open\n",
      "- **Service:** irc\n"
     ]
    }
   ],
   "source": [
    "print(\"LLM Final Response:\")\n",
    "print(x.content)"
   ]
  },
  {
   "cell_type": "markdown",
   "metadata": {},
   "source": [
    "### calling 2 tools with one query\n",
    "to be improved: calling multiple tools is fine, but configuring a logic for calling tools is harder. like telling the llm to only call the port scanning tool if the device is connected. the llm doesnt automatically handle this logic."
   ]
  },
  {
   "cell_type": "code",
   "execution_count": 135,
   "metadata": {},
   "outputs": [
    {
     "name": "stdout",
     "output_type": "stream",
     "text": [
      "[{'name': 'check_device', 'args': {'a': '192.168.5.115'}, 'id': 'call_cWLrwmXkfwC13ruXmzx2Q9Lw', 'type': 'tool_call'}, {'name': 'port_scan', 'args': {'a': '192.168.5.115'}, 'id': 'call_767sLfTer0sil6lehuOQT1Ki', 'type': 'tool_call'}]\n"
     ]
    }
   ],
   "source": [
    "query = \"check that IP 192.168.5.115 is connected, and run a port scan on the same IP\"\n",
    "messages = [HumanMessage(query)]\n",
    "output = llm_with_tools.invoke(query) # this output tells us what tool is to be called, but doesnt call it yet\n",
    "print(output.tool_calls)   \n",
    "messages.append(output) \n"
   ]
  },
  {
   "cell_type": "code",
   "execution_count": 138,
   "metadata": {},
   "outputs": [
    {
     "name": "stdout",
     "output_type": "stream",
     "text": [
      "Starting Nmap 7.95 ( https://nmap.org ) at 2024-12-29 18:20 GMT\n",
      "Nmap scan report for 192.168.5.115\n",
      "Host is up (0.22s latency).\n",
      "Nmap done: 1 IP address (1 host up) scanned in 0.25 seconds\n",
      "\n",
      "content='true' name='check_device' tool_call_id='call_cWLrwmXkfwC13ruXmzx2Q9Lw'\n",
      "\n",
      "Nmap scan results for 192.168.5.115:\n",
      "Port: 6668/tcp, State: open, Service: irc\n",
      "content='Nmap scan results for 192.168.5.115:\\nPort: 6668/tcp, State: open, Service: irc' name='port_scan' tool_call_id='call_767sLfTer0sil6lehuOQT1Ki'\n",
      "\n"
     ]
    }
   ],
   "source": [
    "# Run the tool\n",
    "for tool_call in output.tool_calls:\n",
    "    selected_tool = {\"check_device\": check_device, \"port_scan\": port_scan}[tool_call[\"name\"].lower()]\n",
    "    tool_msg = selected_tool.invoke(tool_call)\n",
    "    print(tool_msg)\n",
    "    print()\n",
    "    messages.append(tool_msg)"
   ]
  },
  {
   "cell_type": "code",
   "execution_count": 139,
   "metadata": {},
   "outputs": [
    {
     "name": "stdout",
     "output_type": "stream",
     "text": [
      "LLM Final Response:\n",
      "The device with IP address 192.168.5.115 is connected to the network. \n",
      "\n",
      "Additionally, a port scan reveals the following information:\n",
      "- Port: **6668/tcp**\n",
      "- State: **open**\n",
      "- Service: **irc**\n"
     ]
    }
   ],
   "source": [
    "x = llm_with_tools.invoke(messages)\n",
    "print(\"LLM Final Response:\")\n",
    "print(x.content)\n"
   ]
  },
  {
   "cell_type": "code",
   "execution_count": null,
   "metadata": {},
   "outputs": [],
   "source": []
  },
  {
   "cell_type": "markdown",
   "metadata": {},
   "source": [
    "## testing tool calling"
   ]
  },
  {
   "cell_type": "code",
   "execution_count": null,
   "metadata": {},
   "outputs": [],
   "source": [
    "@tool\n",
    "def add(a: int, b: int) -> int:\n",
    "    \"\"\"Add two integers.\n",
    "\n",
    "    Args:\n",
    "        a: First integer\n",
    "        b: Second integer\n",
    "    \"\"\"\n",
    "    return a + b\n",
    "\n",
    "@tool\n",
    "def multiply(a: int, b: int) -> int:\n",
    "    \"\"\"Multiply two integers.\n",
    "\n",
    "    Args:\n",
    "        a: First integer\n",
    "        b: Second integer\n",
    "    \"\"\"\n",
    "    return a * b\n",
    "\n",
    "@tool\n",
    "def port_scan(a: str, b: int) -> int:\n",
    "    \"\"\"Runs port scan on a given IP address.\n",
    "\n",
    "    Args:\n",
    "        a: IP address\n",
    "        b: Port number\n",
    "    \"\"\"\n",
    "    \n",
    "    output  = f\"\"\"\n",
    "    Nmap scan report for {a}\n",
    "    Port {b} is open\n",
    "    \"\"\"\n",
    "    return output\n",
    "\n",
    "tools = [add, multiply, port_scan]"
   ]
  },
  {
   "cell_type": "code",
   "execution_count": null,
   "metadata": {},
   "outputs": [],
   "source": [
    "llm = ChatOpenAI(model=\"gpt-4o-mini\")"
   ]
  },
  {
   "cell_type": "code",
   "execution_count": null,
   "metadata": {},
   "outputs": [],
   "source": [
    "llm_with_tools = llm.bind_tools(tools)\n",
    "query = \"What is the product of 4 and 12? What is the sum of 9 and 47?\"\n",
    "messages = [HumanMessage(query)]\n",
    "output = llm_with_tools.invoke(query)\n",
    "messages.append(output)"
   ]
  },
  {
   "cell_type": "code",
   "execution_count": null,
   "metadata": {},
   "outputs": [
    {
     "name": "stdout",
     "output_type": "stream",
     "text": [
      "[{'name': 'multiply', 'args': {'a': 4, 'b': 12}, 'id': 'call_mgZJzsaQrvReYRfm14UkU8Q3', 'type': 'tool_call'}, {'name': 'add', 'args': {'a': 9, 'b': 47}, 'id': 'call_8di1nY00HNqrrpmByuKfPKMm', 'type': 'tool_call'}]\n"
     ]
    }
   ],
   "source": [
    "print(output.tool_calls)"
   ]
  },
  {
   "cell_type": "code",
   "execution_count": null,
   "metadata": {},
   "outputs": [
    {
     "name": "stdout",
     "output_type": "stream",
     "text": [
      "content='48' name='multiply' tool_call_id='call_aVbsBCoPpa2i6rlTbMryylxo'\n",
      "\n",
      "content='56' name='add' tool_call_id='call_S26XUS6hPUbtssZSohIMHO5j'\n",
      "\n"
     ]
    }
   ],
   "source": [
    "for tool_call in output.tool_calls:\n",
    "    selected_tool = {\"add\": add, \"multiply\": multiply}[tool_call[\"name\"].lower()]\n",
    "    tool_msg = selected_tool.invoke(tool_call)\n",
    "    print(tool_msg)\n",
    "    messages.append(tool_msg)\n",
    "    print()"
   ]
  },
  {
   "cell_type": "code",
   "execution_count": null,
   "metadata": {},
   "outputs": [
    {
     "data": {
      "text/plain": [
       "AIMessage(content='The product of 4 and 12 is 48, and the sum of 9 and 47 is 56.', additional_kwargs={'refusal': None}, response_metadata={'token_usage': {'completion_tokens': 27, 'prompt_tokens': 219, 'total_tokens': 246, 'completion_tokens_details': {'accepted_prediction_tokens': 0, 'audio_tokens': 0, 'reasoning_tokens': 0, 'rejected_prediction_tokens': 0}, 'prompt_tokens_details': {'audio_tokens': 0, 'cached_tokens': 0}}, 'model_name': 'gpt-4o-mini-2024-07-18', 'system_fingerprint': 'fp_0aa8d3e20b', 'finish_reason': 'stop', 'logprobs': None}, id='run-152665e1-3096-4f6d-920c-c083184ab6f5-0', usage_metadata={'input_tokens': 219, 'output_tokens': 27, 'total_tokens': 246, 'input_token_details': {'audio': 0, 'cache_read': 0}, 'output_token_details': {'audio': 0, 'reasoning': 0}})"
      ]
     },
     "metadata": {},
     "output_type": "display_data"
    }
   ],
   "source": [
    "llm_with_tools.invoke(messages)"
   ]
  },
  {
   "cell_type": "markdown",
   "metadata": {},
   "source": [
    "### testing port scan placeholder tool"
   ]
  },
  {
   "cell_type": "code",
   "execution_count": null,
   "metadata": {},
   "outputs": [],
   "source": [
    "llm = ChatOpenAI(model=\"gpt-4o-mini\")"
   ]
  },
  {
   "cell_type": "code",
   "execution_count": null,
   "metadata": {},
   "outputs": [],
   "source": [
    "llm_with_tools = llm.bind_tools(tools)\n",
    "query = \"Run a port scan on the address 192.169.1.1 on port 80\"\n",
    "messages = [HumanMessage(query)]\n",
    "\n",
    "output = llm_with_tools.invoke(query)\n",
    "messages.append(output)"
   ]
  },
  {
   "cell_type": "code",
   "execution_count": null,
   "metadata": {},
   "outputs": [
    {
     "name": "stdout",
     "output_type": "stream",
     "text": [
      "[{'name': 'port_scan', 'args': {'a': '192.169.1.1', 'b': 80}, 'id': 'call_3iGa9YkU11krOCKuoO7NBLkA', 'type': 'tool_call'}]\n"
     ]
    }
   ],
   "source": [
    "print(output.tool_calls)"
   ]
  },
  {
   "cell_type": "code",
   "execution_count": null,
   "metadata": {},
   "outputs": [
    {
     "name": "stdout",
     "output_type": "stream",
     "text": [
      "content='\\n    Nmap scan report for 192.169.1.1\\n    Port 80 is open\\n    ' name='port_scan' tool_call_id='call_3iGa9YkU11krOCKuoO7NBLkA'\n",
      "\n"
     ]
    }
   ],
   "source": [
    "for tool_call in output.tool_calls:\n",
    "    selected_tool = {\"add\": add, \"multiply\": multiply, \"port_scan\": port_scan }[tool_call[\"name\"].lower()]\n",
    "    tool_msg = selected_tool.invoke(tool_call)\n",
    "    print(tool_msg)\n",
    "    print()\n",
    "    messages.append(tool_msg)"
   ]
  },
  {
   "cell_type": "code",
   "execution_count": null,
   "metadata": {},
   "outputs": [
    {
     "data": {
      "text/plain": [
       "AIMessage(content='The port scan on the address 192.169.1.1 shows that port 80 is open.', additional_kwargs={'refusal': None}, response_metadata={'token_usage': {'completion_tokens': 24, 'prompt_tokens': 206, 'total_tokens': 230, 'completion_tokens_details': {'accepted_prediction_tokens': 0, 'audio_tokens': 0, 'reasoning_tokens': 0, 'rejected_prediction_tokens': 0}, 'prompt_tokens_details': {'audio_tokens': 0, 'cached_tokens': 0}}, 'model_name': 'gpt-4o-mini-2024-07-18', 'system_fingerprint': 'fp_0aa8d3e20b', 'finish_reason': 'stop', 'logprobs': None}, id='run-b59b30b3-7056-46cf-b08a-074418538fe5-0', usage_metadata={'input_tokens': 206, 'output_tokens': 24, 'total_tokens': 230, 'input_token_details': {'audio': 0, 'cache_read': 0}, 'output_token_details': {'audio': 0, 'reasoning': 0}})"
      ]
     },
     "metadata": {},
     "output_type": "display_data"
    }
   ],
   "source": [
    "llm_with_tools.invoke(messages)"
   ]
  },
  {
   "cell_type": "code",
   "execution_count": null,
   "metadata": {},
   "outputs": [
    {
     "name": "stdout",
     "output_type": "stream",
     "text": [
      "content='\\n    Nmap scan report for 192.169.1.1\\n    Port 80 is open\\n    ' name='port_scan' tool_call_id='call_BTNUCBjqY4sZ8qvVSpeiwIs8'\n"
     ]
    }
   ],
   "source": [
    "print(tool_msg)"
   ]
  },
  {
   "cell_type": "code",
   "execution_count": null,
   "metadata": {},
   "outputs": [],
   "source": []
  }
 ],
 "metadata": {
  "kernelspec": {
   "display_name": "fyp",
   "language": "python",
   "name": "python3"
  },
  "language_info": {
   "codemirror_mode": {
    "name": "ipython",
    "version": 3
   },
   "file_extension": ".py",
   "mimetype": "text/x-python",
   "name": "python",
   "nbconvert_exporter": "python",
   "pygments_lexer": "ipython3",
   "version": "3.11.11"
  }
 },
 "nbformat": 4,
 "nbformat_minor": 2
}
